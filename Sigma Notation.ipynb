{
 "cells": [
  {
   "cell_type": "markdown",
   "metadata": {},
   "source": [
    "### Introduction"
   ]
  },
  {
   "cell_type": "markdown",
   "metadata": {},
   "source": [
    "One of the things about data science, is that it allows us to explore the symmetry between mathematics and coding.  We saw this with translating equations into functions.  For example we now know how to translate something like this: $y = 1.3x + 20$, into this:\n",
    "\n",
    "```python\n",
    "def y(x):\n",
    "    1.3*x + 20    \n",
    "```"
   ]
  },
  {
   "cell_type": "markdown",
   "metadata": {},
   "source": [
    "We'll keep that going in this section."
   ]
  },
  {
   "cell_type": "markdown",
   "metadata": {},
   "source": [
    "### Sequences"
   ]
  },
  {
   "cell_type": "markdown",
   "metadata": {},
   "source": [
    "In Python, you are familiar with a list as looking like the following."
   ]
  },
  {
   "cell_type": "code",
   "execution_count": 32,
   "metadata": {
    "collapsed": true
   },
   "outputs": [],
   "source": [
    "arr = [1, 6, 11, 16, 21]"
   ]
  },
  {
   "cell_type": "markdown",
   "metadata": {},
   "source": [
    "In mathematics, this would look like the following: (0, 5, 10, 15, 20).  In math, we call that a sequence. Sometimes you will see parentheses used as in above, and other times you will see brackets used to describe a sequence like (0, 5, 10, 15, 20).  A sequence is just an ordered list of numbers.  So just as an array is an ordered list of elements, our sequence is the same thing where each element is a number.  To describe the components of a sequence, we can use the word **element**, but you can also use the word **term**.  So in our sequence above, 1 is a term, as is 6 and 21."
   ]
  },
  {
   "cell_type": "markdown",
   "metadata": {},
   "source": [
    "We can also describe our sequence as the following:\n",
    "\n",
    "$(x_i)^5_{i=1}$ = (0, 5, 10, 15, 20)"
   ]
  },
  {
   "cell_type": "markdown",
   "metadata": {},
   "source": [
    "You can read this as the first element in the series, with $i$ having an initial value of $i = 1 $ until the fifth element in the series, where $x_i$ is a term in the sequence with any of the indices 1 through five.  So we are seeing that this is a way to describe five terms in a sequence, with the first term $ x_1 = 1 $, and the second term $x_2 = 6 $.  So notice, that unlike in programming, our index number for a sequence begins at the number one, not zero."
   ]
  },
  {
   "cell_type": "markdown",
   "metadata": {},
   "source": [
    "Now what's nice about knowing this notation is that we can now begin to make this abstract.  For example, the above sequence can also be written as the following:"
   ]
  },
  {
   "cell_type": "markdown",
   "metadata": {},
   "source": [
    "$(x_i)^5_{i=0}$ where $x_i = 5*i $"
   ]
  },
  {
   "cell_type": "markdown",
   "metadata": {},
   "source": [
    "So as you can see, this abstracts away some of the repetition and is stating that it represents the series with $i$ ending at 5, where each term is $i * 5 $ beginning at $ i = 0$.  And in code it would look like the following:"
   ]
  },
  {
   "cell_type": "code",
   "execution_count": 34,
   "metadata": {},
   "outputs": [
    {
     "data": {
      "text/plain": [
       "[0, 5, 10, 15, 20, 25]"
      ]
     },
     "execution_count": 34,
     "metadata": {},
     "output_type": "execute_result"
    }
   ],
   "source": [
    "i = 0\n",
    "ending_i = 5 \n",
    "terms = []\n",
    "for i in range(i, ending_i + 1):\n",
    "    terms.append(5*i)\n",
    "terms"
   ]
  },
  {
   "cell_type": "markdown",
   "metadata": {},
   "source": [
    "So both math and code are trying to capture the same abstraction, and doing so in similar ways."
   ]
  },
  {
   "cell_type": "markdown",
   "metadata": {},
   "source": [
    "### A mathematical series"
   ]
  },
  {
   "cell_type": "markdown",
   "metadata": {},
   "source": [
    "A series in mathematics is just the sum of a sequence.  In other words, the series of the sequence above  $(x_i)^5_{i=0}$ where $x_i = 5*i  = 0 + 5 + 10 + 15 + 20 + 25 $.  Let's see how we would write something like this using Python.  "
   ]
  },
  {
   "cell_type": "code",
   "execution_count": 35,
   "metadata": {
    "collapsed": true
   },
   "outputs": [],
   "source": [
    "# first get the numbers 1 - 10\n",
    "num_range = list(range(0, 26, 5))"
   ]
  },
  {
   "cell_type": "code",
   "execution_count": 36,
   "metadata": {},
   "outputs": [
    {
     "data": {
      "text/plain": [
       "[0, 5, 10, 15, 20, 25]"
      ]
     },
     "execution_count": 36,
     "metadata": {},
     "output_type": "execute_result"
    }
   ],
   "source": [
    "num_range"
   ]
  },
  {
   "cell_type": "code",
   "execution_count": 38,
   "metadata": {},
   "outputs": [
    {
     "data": {
      "text/plain": [
       "75"
      ]
     },
     "execution_count": 38,
     "metadata": {},
     "output_type": "execute_result"
    }
   ],
   "source": [
    "total = 0\n",
    "for i in range(0, 26, 5):\n",
    "    total += i\n",
    "total"
   ]
  },
  {
   "cell_type": "markdown",
   "metadata": {},
   "source": [
    "We can also use Python's built in sum function to add up the numbers zero through twenty-five."
   ]
  },
  {
   "cell_type": "code",
   "execution_count": 40,
   "metadata": {},
   "outputs": [
    {
     "data": {
      "text/plain": [
       "75"
      ]
     },
     "execution_count": 40,
     "metadata": {},
     "output_type": "execute_result"
    }
   ],
   "source": [
    "zero_through_twenty_five = list(range(5, 26, 5))\n",
    "sum(zero_through_twenty_five)"
   ]
  },
  {
   "cell_type": "markdown",
   "metadata": {},
   "source": [
    "### Adding like a mathematician"
   ]
  },
  {
   "cell_type": "markdown",
   "metadata": {},
   "source": [
    "So far we have spoken of a fancy way to describe a sequence numbers, using sequence notation. We can write this even more briefly using sigma notation.  This is sigma notation for adding up the numbers from one to ten, $1 + 2 + 3+ 4+ 5+ 6+ 7 + 8 + 9+ 10$.\n",
    "\n",
    "$$\\sum_{i=1}^{10} i$$"
   ]
  },
  {
   "cell_type": "markdown",
   "metadata": {},
   "source": [
    "Ok, so let's break this down. The greek letter $\\sum$, means that we are about to add up a set of numbers, one after the other.  Whatever is at the bottom of the sigma indicates our starting point. So, at the bottom of the $\\sum$, we see $i = 1 $.  This means we will be initializing $i$ to equal 1.  The number at the top still indicates where we will be stopping, with $i = 10 $.  Now, what comes after the $\\sum$ indicates what we are adding.  We are adding $i$, where $i$ is the numbers one through ten."
   ]
  },
  {
   "cell_type": "code",
   "execution_count": 46,
   "metadata": {},
   "outputs": [
    {
     "data": {
      "text/plain": [
       "55"
      ]
     },
     "execution_count": 46,
     "metadata": {},
     "output_type": "execute_result"
    }
   ],
   "source": [
    "total = 0\n",
    "for i in range(1, 11):\n",
    "    total += i\n",
    "total"
   ]
  },
  {
   "cell_type": "markdown",
   "metadata": {},
   "source": [
    "Ok, now let's try another of these.  What does adding up the numbers one through five look like in sigma notation?  Well, we know we start at one and end at five.  Then we add each of those numbers, i.  Let's see how this looks around a sigma.\n",
    "\n",
    "$$\\sum_{i=1}^{5} i$$\n",
    "\n",
    "Ok, not too bad.  The above is the equivalent of $ 1 + 2 + 3 + 4 + 5 = 15 $."
   ]
  },
  {
   "cell_type": "markdown",
   "metadata": {},
   "source": [
    "Ok, so now that we have discussed adding numbers one after the other, let's talk about how to describe adding any terms in a sequence. This is one way to describe a sum of a sequence:  \n",
    "\n",
    "For $(x_i)^5_{i=0}$ with $x_i = 5*i$,  $y = x_i + x_{i + 1} ... x_5 $\n",
    "\n",
    "We can read that as, for an element in the series with i starting at 0 and going to 5, with each element equal to 5 * i, add up all of those elements of the series and set it equal to y, or in other words the numbers (0, 5, 10, 15, 20, 25) added together.  Here is that same sequence with summation notation.\n",
    "\n",
    "$$\\sum_{i=1}^{5} 5*i$$"
   ]
  },
  {
   "cell_type": "markdown",
   "metadata": {},
   "source": [
    "### Summary"
   ]
  },
  {
   "cell_type": "markdown",
   "metadata": {},
   "source": [
    "In this section, we saw the similarity between abstractions in mathematics and in coding.  We saw that a sequence is an ordered list of elements or terms.  And how we can describe a sequence by indicating the initial value, the ending value and the general case, as in: \n",
    "\n",
    "$(x_i)^5_{i=0}$ where $x_i = 5*i $"
   ]
  },
  {
   "cell_type": "markdown",
   "metadata": {},
   "source": [
    "We also saw how to add the terms in a sequence using the sigma notation as in: "
   ]
  }
 ],
 "metadata": {
  "kernelspec": {
   "display_name": "Python 3",
   "language": "python",
   "name": "python3"
  },
  "language_info": {
   "codemirror_mode": {
    "name": "ipython",
    "version": 3
   },
   "file_extension": ".py",
   "mimetype": "text/x-python",
   "name": "python",
   "nbconvert_exporter": "python",
   "pygments_lexer": "ipython3",
   "version": "3.6.1"
  }
 },
 "nbformat": 4,
 "nbformat_minor": 2
}
